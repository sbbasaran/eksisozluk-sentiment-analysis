{
 "cells": [
  {
   "cell_type": "code",
   "execution_count": 4,
   "id": "590404b7",
   "metadata": {},
   "outputs": [],
   "source": [
    "import numpy as np\n",
    "import pandas as pd\n",
    "import matplotlib.pyplot as plt\n",
    "import seaborn as sns\n",
    "\n",
    "import re\n",
    "import string\n",
    "import zeyrek\n",
    "from TurkishStemmer import TurkishStemmer\n",
    "\n",
    "%matplotlib inline"
   ]
  },
  {
   "cell_type": "code",
   "execution_count": null,
   "id": "8ae6ea79",
   "metadata": {},
   "outputs": [],
   "source": [
    "# Importing Data Set\n",
    "df = pd.read_csv(\"/Desktop/entries_processed.csv\")"
   ]
  },
  {
   "cell_type": "code",
   "execution_count": 89,
   "id": "c2506d74",
   "metadata": {},
   "outputs": [
    {
     "name": "stdout",
     "output_type": "stream",
     "text": [
      "                                Entry Author              Date  \\\n",
      "count                           20242  20242             20242   \n",
      "unique                          19023  11931             17858   \n",
      "top     (bkz: derdini sikeyim butonu)   oric  23.02.2020 14:34   \n",
      "freq                                7     87                12   \n",
      "first                             NaN    NaN               NaN   \n",
      "last                              NaN    NaN               NaN   \n",
      "\n",
      "                                                Old_Topic  \\\n",
      "count                                               20242   \n",
      "unique                                                302   \n",
      "top     kadıköy sokaklarında amaçsızca tek başına dola...   \n",
      "freq                                                 1050   \n",
      "first                                                 NaN   \n",
      "last                                                  NaN   \n",
      "\n",
      "                                                New_Topic Edited  \\\n",
      "count                                               20242  20242   \n",
      "unique                                                301      2   \n",
      "top     kadıköy sokaklarında amaçsızca tek başına dola...  False   \n",
      "freq                                                 1050  16622   \n",
      "first                                                 NaN    NaN   \n",
      "last                                                  NaN    NaN   \n",
      "\n",
      "                 Entry_Date            Edit_Date Processed_Entry  \\\n",
      "count                 20242                 3620           20242   \n",
      "unique                17382                 2454           18868   \n",
      "top     2020-02-23 14:34:00  2022-09-22 16:19:00                   \n",
      "freq                     15                    8             130   \n",
      "first   1999-03-28 00:00:00                  NaN             NaN   \n",
      "last    2022-12-09 17:23:00                  NaN             NaN   \n",
      "\n",
      "       Stemmed_Entry        date  \n",
      "count          20242       20242  \n",
      "unique         18853        3634  \n",
      "top                   2020-02-23  \n",
      "freq             134         658  \n",
      "first            NaN         NaN  \n",
      "last             NaN         NaN  \n"
     ]
    },
    {
     "name": "stderr",
     "output_type": "stream",
     "text": [
      "<ipython-input-89-772c287cbb5c>:1: FutureWarning: Treating datetime data as categorical rather than numeric in `.describe` is deprecated and will be removed in a future version of pandas. Specify `datetime_is_numeric=True` to silence this warning and adopt the future behavior now.\n",
      "  print(df.describe())\n"
     ]
    }
   ],
   "source": [
    "print(df.describe())"
   ]
  },
  {
   "cell_type": "code",
   "execution_count": 20,
   "id": "673dd3b4",
   "metadata": {},
   "outputs": [
    {
     "name": "stdout",
     "output_type": "stream",
     "text": [
      "[[\"arife gunu yarim gun mesaisini yapmami$, tembel belediye modeli.. binasi hasanpa$a'dadir..\"\n",
      "  'ssg' '21.02.2002 12:03 ~ 12:03' ... '2022-09-19 12:03:00'\n",
      "  'arife gunu yarim gun mesaisini yapmami tembel belediye modeli binasi hasanpa dadir'\n",
      "  'arif gun yarim gun mesai yapmami tembel beledi mode binasi hasanp dadir']\n",
      " [\"sorumluluklarin %50sini yerine getirse, kadikoy'u daha sevecen ve ya$anabilecek bi yer haline donu$turebilecek guc.\"\n",
      "  'deadpoem' '11.01.2003 16:24' ... nan\n",
      "  'sorumluluklarin getirse kadikoy sevecen anabilecek bi yer haline donu turebilecek guc'\n",
      "  'sorumluluklari getir kadikoy sevecen anabilecek bi yer halin don turebilecek guc']\n",
      " ['sağa sola kent yaşamının gerçek sahibi yayalardır yazan, başında selami öztürkün bulunduğu belediyemiz..'\n",
      "  'melancholyman' '01.02.2003 02:10 ~ 02:12' ... '2022-09-19 02:12:00'\n",
      "  'sağa sola kent yaşamının gerçek sahibi yayalardır yazan başında selami öztürkün bulunduğu belediyemiz'\n",
      "  'sak sol kent yaşam gerçek sahip yaya yazan baş selami öztürk bulunduk belediye']\n",
      " ...\n",
      " ['göztepe ve caddebostan\\'ı da dahil ederek söylüyorum; istanbul\\'un en hoş semtleridir.\\n\\nçocukluğum buralarda geçti. ilk okulu fehmi ekşioğlu i.ö.o\\'da okumuştum. evimiz dr. zeki zeren sokaktaydı (oyuncak müzesinin olduğu sokak). annem beni sürekli özgürlük parkına götürürdü. göztepe tren istasyonu; turnikeden geçtikten sonra merdivenleri inerek trene gitmek (ki bu tarz bir tren istasyonu kadıköy ilçesinde başka yerde yoktu o zamanlar). liseyi intaş\\'ta okudum. lise arkadaşlarımla en büyük aktivitemiz caddebostan sahilinde boş boş tur atmaktı. bağdat caddesinde herhangi bir mekana oturmazdık. o zamanlar arkadaş arasında bir goygoy vardı, \"barlar sokağında herhangi bir mekena girmek bile 300 lira\" diye. kim çıkardı bu goygoyu bilmiyorum ama hala bağdat caddesi barlar sokağından geçerken para konusunda tedirgin olurum. hayatımın geçtiği yerler olmasına rağmen hala hiçbir barında oturmadım oranın. travma olmuş 300 lira efsanesi.\\n\\nbu aylarda ayrı güzeldir. eskiden çok daha güzeldi. her yerde dut ağaçları olurdu. bütün erenköy ve göztepe dut kokardı. kirpiler peyda olurdu sokaklarda. apartmanların çoğu 3-4 katlıydı. hepsinin geniş bir arka bahçesi ve küçük bir ön bahçesi vardı. bahçelerde daima kamelya bulunurdu. babamın çocukluğunda ise hepsi köşkmüş. bizim oturduğumuz dr. zeki zeren sokak ise çıkmaz sokakmış. istanbul\\'da sağ sol kavgasının yaşanmadığı, güvenli nadir semtlerden biriymiş buralar 70lerde.\\n\\nbir sokağında annesiyle gezintiye çıkmış sunay akın\\'ı görüp, yan sokağa saptığınızda elinde poşetlerle marketten dönen salih kalyon\\'la selamlaşıp, caddeye çıktığınızda yanınızda spor arabayla tolga çevik\\'in geçtiğini görebileceğiniz semtlerdir. ünlüsü boldur. sümer tilmaç da sokaklarda dolaşıp, tanımadığı insanları güler yüzle selamlamaya rahmetli olmadan bir hafta önceye kadar devam ederdi. bir cihangir, taksim gibi abartılı paparazi mekanı olmadığı için ünlüler insanları daima selamlarlar, onların sohbet isteklerini kırmazlardı.\\n\\nhele bir de apartman kültürü vardır ki, artık istanbul\\'da bitmek üzeredir. apartmandaki kadınların birbiriyle olan ilişkiler, yardımlaşmaları; biri zor durumda olunca öbürlerinin birleşip o zor durumda olan aileye yardım etmeleri. birbiriyle tek ortak noktalarının kocalarının aynı apartmandan daire almış/kiralamış olmaları olan ev hanımlarının geliştirdiği komşuluk ilişkileri. adeta birbirlerini abla, hala, teyze gibi sahiplenmeleri. birbirlerinin çocuklarını kendi çocukları gibi görmeleri. o dört katlı binaların şahit olduğu onlarca yaşanmışlık, istanbul\\'un deprem riski yüzünden kentsel dönüşüm bahanesiyle kepçe darbeleri indirilerek yıkılıp yok edildi. o evlerde bir başlarına oturan binlerce yaşlı çift de o kepçe inmeden, yada indikten kısa süre sonra göçüp gitti. hepsinin yalnız bir hatırası kaldı.\\n\\nşimdi oturulacak gibi değil. kiraların 15.000 tl olduğu söyleniyor. dönüp bakmam, baksam oturmam. şu an esatpaşa\\'dayım.\\n\\nyine de güzel semttir. nostalji fetişistliği yapmak istemem ama 2000lerin başındaki o 10-20 katlı rezidansların olmadığı de bütün o dut ağaçlarının yerinde olduğu hali çok güzeldi.'\n",
      "  'bu havalarda gelme bana' '03.07.2022 09:39' ... nan\n",
      "  'göztepe caddebostan dahil istanbul hoş semtleridir çocukluğum buralarda geçti ilk okulu fehmi ekşioğlu okumuştum evimiz dr zeki zeren sokaktaydı oyuncak müzesinin sokak annem sürekli özgürlük parkına götürürdü göztepe tren istasyonu turnikeden geçtikten merdivenleri inerek trene gitmek tarz tren istasyonu kadıköy ilçesinde yerde yoktu zamanlar liseyi intaş okudum lise arkadaşlarımla aktivitemiz caddebostan sahilinde boş boş tur atmaktı bağdat caddesinde mekana oturmazdık zamanlar arkadaş goygoy barlar sokağında mekena girmek lira çıkardı goygoyu bilmiyorum bağdat caddesi barlar sokağından geçerken para tedirgin olurum hayatımın geçtiği yerler olmasına barında oturmadım oranın travma lira efsanesi aylarda ayrı güzeldir eskiden güzeldi yerde dut ağaçları olurdu erenköy göztepe dut kokardı kirpiler peyda olurdu sokaklarda apartmanların katlıydı hepsinin geniş arka bahçesi küçük bahçesi bahçelerde daima kamelya bulunurdu babamın çocukluğunda köşkmüş oturduğumuz dr zeki zeren sokak çıkmaz sokakmış istanbul sağ sol kavgasının yaşanmadığı güvenli nadir semtlerden biriymiş buralar sokağında annesiyle gezintiye çıkmış sunay akın görüp yan sokağa saptığınızda elinde poşetlerle marketten dönen salih kalyon la selamlaşıp caddeye çıktığınızda yanınızda spor arabayla tolga çevik geçtiğini görebileceğiniz semtlerdir ünlüsü boldur sümer tilmaç sokaklarda dolaşıp tanımadığı insanları güler yüzle selamlamaya rahmetli olmadan hafta önceye ederdi cihangir taksim abartılı paparazi mekanı ünlüler insanları daima selamlarlar sohbet isteklerini kırmazlardı hele apartman kültürü istanbul bitmek üzeredir apartmandaki kadınların birbiriyle ilişkiler yardımlaşmaları zor durumda olunca öbürlerinin birleşip zor durumda aileye yardım etmeleri birbiriyle tek ortak noktalarının kocalarının apartmandan daire kiralamış olmaları ev hanımlarının geliştirdiği komşuluk ilişkileri adeta birbirlerini abla teyze sahiplenmeleri birbirlerinin çocuklarını çocukları görmeleri katlı binaların şahit onlarca yaşanmışlık istanbul deprem riski yüzünden kentsel dönüşüm bahanesiyle kepçe darbeleri indirilerek yıkılıp edildi evlerde başlarına oturan binlerce yaşlı çift kepçe inmeden yada indikten kısa süre göçüp gitti hepsinin yalnız hatırası kaldı oturulacak kiraların tl söyleniyor dönüp bakmam baksam oturmam an esatpaşa dayım güzel semttir nostalji fetişistliği istemem başındaki katlı rezidansların dut ağaçlarının yerinde hali güzeldi'\n",
      "  'göztep caddebostan dahil istanbul hoş semt çocukluk bura geçt ilk okul fehm ekşiok okumuş ev dr zek zeren sokak oyuncak müze sokak annem sürek özgürlük park götürür göztep tren istasyon turnike geçtik merdiven inerek tren gitmek tarz tren istasyon kadıköy ilçe yer yokt lise intaş okut lis arkadaş aktivite caddebostan sahil boş boş tur atmak bağdat cadde mekan oturmaz arkadaş goygoy barlar sokak mekena girmek lira çıkar goygo bilmiyor bağdat cadde barlar sokak geçer par tedirg hayat geçtik yer olma bar otur oran trav lira efsane aylar ayr güzel eski güzel yer dut ağaç erenköy göztep dut kokar kirp peyda sokak apartman katl geniş ark bahçe küçük bahçe bahçe daima kamelya bulunur baba çocukluk köşk oturduk dr zek zeren sokak çıkmaz sokak istanbul sağ sol kavga yaşanmadık güven nadir semt bura sokak anne gezinti çık sunay ak görüp yan sokak saptık elin poşet market dönen salih kalyon la selamlaşıp cadde çıktık yan spor araba tolg çevik geçtik görebilecek semt ünlü bol sümer tilmaç sokak dolaşıp tanımadık insan gü yüzl selamlama rahmet olma haf eder cihangir taksim abartı paparazi mekan ünlü insan daima selam sohbet istek kırmaz hel apartman kültür istanbul bitmek üzer apartman kadın birbir ilişk yardımlaşma zor dur olu birleşip zor dur aile yardım etme birbir tek ortak nokta koca apartman dair kira olma ev hanım geliştirdik komşuluk ilişki adeta birbir abl teyz sahiplenme birbir çocuk çocuk görme katl bina şahit yaşanmışlık istanbul depre risk kentsel dönüş bahane kepç darbe indirilerek yıkılıp edil ev baş oturan yaşl çift kepç inme indik kıs sür göçüp git yaln hatıra kalt oturulacak kira tl söyleniyor dönüp bakma bak oturma an esatpaş day güzel semt nostalji fetişistlik isteme baş katl rezidans dut ağaç yer hali güzel']\n",
      " ['çocukluğum, ergenliğim, gençliğim. kısacası tüm hayatımın köşeleri bu semtlere değiyor.\\nne mutlu!'\n",
      "  'dogville' '03.07.2022 09:40' ... nan\n",
      "  'çocukluğum ergenliğim gençliğim kısacası hayatımın köşeleri semtlere değiyor mutlu'\n",
      "  'çocukluk ergenlik gençlik kısaca hayat köşe semt değiyor mutl']\n",
      " [\"istanbul'da mülteci veya turist istilasına uğramayan son kale olabilir. doğup büyüdüğüm yaşadığım semtler.\"\n",
      "  'cumhurreisi' '03.07.2022 09:58' ... nan\n",
      "  'istanbul mülteci turist istilasına uğramayan son kale olabilir doğup büyüdüğüm yaşadığım semtler'\n",
      "  'istanbul mülteç turist istila uğramayan son kale olabilir doğup büyüdük yaşadık semt']]\n"
     ]
    }
   ],
   "source": [
    "print(df.values)"
   ]
  },
  {
   "cell_type": "code",
   "execution_count": 96,
   "id": "6b13f4fc",
   "metadata": {},
   "outputs": [
    {
     "data": {
      "text/plain": [
       "oric                                   87\n",
       "mukatta                                70\n",
       "uzunada1969                            54\n",
       "kelebeklerinviziltisi                  48\n",
       "ikitam1bolu2                           47\n",
       "                                       ..\n",
       "cikcikci                                1\n",
       "3 yil sonra                             1\n",
       "juuzou                                  1\n",
       "ol babda emr u ferman                   1\n",
       "kafkaslardan gelmisem bu topraklara     1\n",
       "Name: Author, Length: 11931, dtype: int64"
      ]
     },
     "execution_count": 96,
     "metadata": {},
     "output_type": "execute_result"
    }
   ],
   "source": [
    "df.Author.value_counts()"
   ]
  },
  {
   "cell_type": "code",
   "execution_count": 113,
   "id": "8dafdec7",
   "metadata": {
    "scrolled": false
   },
   "outputs": [
    {
     "data": {
      "text/plain": [
       "kadıköy sokaklarında amaçsızca tek başına dolanmak    1050\n",
       "23 şubat 2020 kadıköy belediyesi paylaşımı             678\n",
       "moda                                                   635\n",
       "caddebostan sahili                                     627\n",
       "caddebostan sahilini suriyelilerin istila etmesi       607\n",
       "haydarpaşa garı                                        535\n",
       "kadıköy belediyesi                                     465\n",
       "kadıköy ve şişli türkiye'nin kaymağını yiyor           449\n",
       "kozyatağı metrosu'ndaki silahlı adamlar                430\n",
       "28 kasım 2010 haydarpaşa garı yangını                  347\n",
       "kadıköy bel.'nin göz kamaştıran kaldırım tamiri        346\n",
       "moda sahilinde oral seks yapan amca                    328\n",
       "kadıköy'deki kentsel dönüşüm rezaleti                  310\n",
       "kadıköy vs beşiktaş                                    309\n",
       "doya doya moda                                         305\n",
       "yeldeğirmeni                                           290\n",
       "moda sahili                                            255\n",
       "kadıköy vs alsancak                                    250\n",
       "kadıköy vs taksim                                      235\n",
       "moda caferağa mahallesi muhtar heyeti adayları         234\n",
       "17 nisan 2017 kadıköy eylemi                           233\n",
       "acıbadem                                               218\n",
       "kadıköy moda'daki cumartesi gürültülerinden bıkmak     208\n",
       "bostancı                                               193\n",
       "kurbağalıdere                                          192\n",
       "3 eylül 2021 kadıköy gürültü protestoları              176\n",
       "koşuyolu                                               163\n",
       "kadıköy'ün tarihe karışmış mekanları                   161\n",
       "21 ağustos 2019 marmaray suadiye durağı tuhaflığı      160\n",
       "yobazların kadıköy'ü işgal etmesi                      159\n",
       "Name: New_Topic, dtype: int64"
      ]
     },
     "execution_count": 113,
     "metadata": {},
     "output_type": "execute_result"
    }
   ],
   "source": [
    "df[\"New_Topic\"].value_counts().head(30)"
   ]
  },
  {
   "cell_type": "markdown",
   "id": "c0b204ee",
   "metadata": {},
   "source": [
    "## Daily Entry Counts"
   ]
  },
  {
   "cell_type": "code",
   "execution_count": 55,
   "id": "1176e168",
   "metadata": {},
   "outputs": [
    {
     "data": {
      "text/plain": [
       "New_Topic                           Entry_Date         \n",
       "1 nisan 2021 kadıköy polis şiddeti  2021-01-04 19:12:00    1\n",
       "                                    2021-01-04 19:18:00    2\n",
       "                                    2021-01-04 19:24:00    2\n",
       "                                    2021-01-04 19:28:00    1\n",
       "                                    2021-01-04 19:29:00    1\n",
       "                                                          ..\n",
       "şanlı erenköy direnişi              2020-09-08 14:04:00    1\n",
       "                                    2020-11-10 18:13:00    1\n",
       "                                    2021-04-15 02:20:00    1\n",
       "                                    2022-07-01 13:46:00    1\n",
       "                                    2022-08-08 19:25:00    1\n",
       "Name: Entry, Length: 17486, dtype: int64"
      ]
     },
     "execution_count": 55,
     "metadata": {},
     "output_type": "execute_result"
    }
   ],
   "source": [
    "df.groupby([\"New_Topic\",\"Entry_Date\"])[\"Entry\"].count()"
   ]
  },
  {
   "cell_type": "code",
   "execution_count": 56,
   "id": "06be838c",
   "metadata": {},
   "outputs": [
    {
     "data": {
      "text/plain": [
       "Entry_Date\n",
       "1999-03-28 00:00:00    1\n",
       "1999-03-29 00:00:00    1\n",
       "1999-06-27 00:00:00    1\n",
       "1999-08-07 00:00:00    3\n",
       "1999-08-10 00:00:00    1\n",
       "                      ..\n",
       "2022-12-09 12:51:00    1\n",
       "2022-12-09 13:09:00    1\n",
       "2022-12-09 13:44:00    1\n",
       "2022-12-09 13:55:00    1\n",
       "2022-12-09 17:23:00    1\n",
       "Name: Entry, Length: 17382, dtype: int64"
      ]
     },
     "execution_count": 56,
     "metadata": {},
     "output_type": "execute_result"
    }
   ],
   "source": [
    "df.groupby([\"Entry_Date\"])[\"Entry\"].count()"
   ]
  },
  {
   "cell_type": "code",
   "execution_count": 53,
   "id": "deec4c4a",
   "metadata": {},
   "outputs": [
    {
     "data": {
      "text/html": [
       "<div>\n",
       "<style scoped>\n",
       "    .dataframe tbody tr th:only-of-type {\n",
       "        vertical-align: middle;\n",
       "    }\n",
       "\n",
       "    .dataframe tbody tr th {\n",
       "        vertical-align: top;\n",
       "    }\n",
       "\n",
       "    .dataframe thead th {\n",
       "        text-align: right;\n",
       "    }\n",
       "</style>\n",
       "<table border=\"1\" class=\"dataframe\">\n",
       "  <thead>\n",
       "    <tr style=\"text-align: right;\">\n",
       "      <th></th>\n",
       "      <th>Entry</th>\n",
       "      <th>Author</th>\n",
       "      <th>Date</th>\n",
       "      <th>Old_Topic</th>\n",
       "      <th>New_Topic</th>\n",
       "      <th>Edited</th>\n",
       "      <th>Entry_Date</th>\n",
       "      <th>Edit_Date</th>\n",
       "      <th>Processed_Entry</th>\n",
       "      <th>Stemmed_Entry</th>\n",
       "    </tr>\n",
       "  </thead>\n",
       "  <tbody>\n",
       "    <tr>\n",
       "      <th>0</th>\n",
       "      <td>arife gunu yarim gun mesaisini yapmami$, tembe...</td>\n",
       "      <td>ssg</td>\n",
       "      <td>21.02.2002 12:03 ~ 12:03</td>\n",
       "      <td>kadıköy belediyesi</td>\n",
       "      <td>kadıköy belediyesi</td>\n",
       "      <td>True</td>\n",
       "      <td>2002-02-21 12:03:00</td>\n",
       "      <td>2022-09-19 12:03:00</td>\n",
       "      <td>arife gunu yarim gun mesaisini yapmami tembel ...</td>\n",
       "      <td>arif gun yarim gun mesai yapmami tembel beledi...</td>\n",
       "    </tr>\n",
       "    <tr>\n",
       "      <th>1</th>\n",
       "      <td>sorumluluklarin %50sini yerine getirse, kadiko...</td>\n",
       "      <td>deadpoem</td>\n",
       "      <td>11.01.2003 16:24</td>\n",
       "      <td>kadıköy belediyesi</td>\n",
       "      <td>kadıköy belediyesi</td>\n",
       "      <td>False</td>\n",
       "      <td>2003-11-01 16:24:00</td>\n",
       "      <td>NaN</td>\n",
       "      <td>sorumluluklarin getirse kadikoy sevecen anabil...</td>\n",
       "      <td>sorumluluklari getir kadikoy sevecen anabilece...</td>\n",
       "    </tr>\n",
       "    <tr>\n",
       "      <th>2</th>\n",
       "      <td>sağa sola kent yaşamının gerçek sahibi yayalar...</td>\n",
       "      <td>melancholyman</td>\n",
       "      <td>01.02.2003 02:10 ~ 02:12</td>\n",
       "      <td>kadıköy belediyesi</td>\n",
       "      <td>kadıköy belediyesi</td>\n",
       "      <td>True</td>\n",
       "      <td>2003-01-02 02:10:00</td>\n",
       "      <td>2022-09-19 02:12:00</td>\n",
       "      <td>sağa sola kent yaşamının gerçek sahibi yayalar...</td>\n",
       "      <td>sak sol kent yaşam gerçek sahip yaya yazan baş...</td>\n",
       "    </tr>\n",
       "    <tr>\n",
       "      <th>3</th>\n",
       "      <td>(bkz: kadikoy afet kriz merkezi)</td>\n",
       "      <td>mercan</td>\n",
       "      <td>21.03.2003 18:46</td>\n",
       "      <td>kadıköy belediyesi</td>\n",
       "      <td>kadıköy belediyesi</td>\n",
       "      <td>False</td>\n",
       "      <td>2003-03-21 18:46:00</td>\n",
       "      <td>NaN</td>\n",
       "      <td>kadikoy afet kriz merkezi</td>\n",
       "      <td>kadikoy afet kriz merkez</td>\n",
       "    </tr>\n",
       "    <tr>\n",
       "      <th>4</th>\n",
       "      <td>internet sitesinde sahipsiz kedi ve köpekler i...</td>\n",
       "      <td>sai baba</td>\n",
       "      <td>03.08.2004 00:17</td>\n",
       "      <td>kadıköy belediyesi</td>\n",
       "      <td>kadıköy belediyesi</td>\n",
       "      <td>False</td>\n",
       "      <td>2004-03-08 00:17:00</td>\n",
       "      <td>NaN</td>\n",
       "      <td>internet sitesinde sahipsiz kedi köpekler bölü...</td>\n",
       "      <td>internet site sahips ked köpek böl isteyen hay...</td>\n",
       "    </tr>\n",
       "    <tr>\n",
       "      <th>...</th>\n",
       "      <td>...</td>\n",
       "      <td>...</td>\n",
       "      <td>...</td>\n",
       "      <td>...</td>\n",
       "      <td>...</td>\n",
       "      <td>...</td>\n",
       "      <td>...</td>\n",
       "      <td>...</td>\n",
       "      <td>...</td>\n",
       "      <td>...</td>\n",
       "    </tr>\n",
       "    <tr>\n",
       "      <th>20237</th>\n",
       "      <td>türkiye istanbul ankara izmir gibi saçma sapan...</td>\n",
       "      <td>paranoid humanoid</td>\n",
       "      <td>02.07.2022 16:05</td>\n",
       "      <td>kadıköy erenköy kozyatağı suadiye</td>\n",
       "      <td>kadıköy erenköy kozyatağı suadiye</td>\n",
       "      <td>False</td>\n",
       "      <td>2022-02-07 16:05:00</td>\n",
       "      <td>NaN</td>\n",
       "      <td>türkiye istanbul ankara izmir saçma sapan tanım</td>\n",
       "      <td>türki istanbul ankar izmir saçm sapan tan</td>\n",
       "    </tr>\n",
       "    <tr>\n",
       "      <th>20238</th>\n",
       "      <td>bostancı'nın nesi var amk!!\\n\\nbana sorarsanız...</td>\n",
       "      <td>burukluk</td>\n",
       "      <td>02.07.2022 16:12</td>\n",
       "      <td>kadıköy erenköy kozyatağı suadiye</td>\n",
       "      <td>kadıköy erenköy kozyatağı suadiye</td>\n",
       "      <td>False</td>\n",
       "      <td>2022-02-07 16:12:00</td>\n",
       "      <td>NaN</td>\n",
       "      <td>bostancı nesi sorarsanız güzergahta bostancı s...</td>\n",
       "      <td>bostancı sorar güzergah bostancı taşr nev şark...</td>\n",
       "    </tr>\n",
       "    <tr>\n",
       "      <th>20239</th>\n",
       "      <td>göztepe ve caddebostan'ı da dahil ederek söylü...</td>\n",
       "      <td>bu havalarda gelme bana</td>\n",
       "      <td>03.07.2022 09:39</td>\n",
       "      <td>kadıköy erenköy kozyatağı suadiye</td>\n",
       "      <td>kadıköy erenköy kozyatağı suadiye</td>\n",
       "      <td>False</td>\n",
       "      <td>2022-03-07 09:39:00</td>\n",
       "      <td>NaN</td>\n",
       "      <td>göztepe caddebostan dahil istanbul hoş semtler...</td>\n",
       "      <td>göztep caddebostan dahil istanbul hoş semt çoc...</td>\n",
       "    </tr>\n",
       "    <tr>\n",
       "      <th>20240</th>\n",
       "      <td>çocukluğum, ergenliğim, gençliğim. kısacası tü...</td>\n",
       "      <td>dogville</td>\n",
       "      <td>03.07.2022 09:40</td>\n",
       "      <td>kadıköy erenköy kozyatağı suadiye</td>\n",
       "      <td>kadıköy erenköy kozyatağı suadiye</td>\n",
       "      <td>False</td>\n",
       "      <td>2022-03-07 09:40:00</td>\n",
       "      <td>NaN</td>\n",
       "      <td>çocukluğum ergenliğim gençliğim kısacası hayat...</td>\n",
       "      <td>çocukluk ergenlik gençlik kısaca hayat köşe se...</td>\n",
       "    </tr>\n",
       "    <tr>\n",
       "      <th>20241</th>\n",
       "      <td>istanbul'da mülteci veya turist istilasına uğr...</td>\n",
       "      <td>cumhurreisi</td>\n",
       "      <td>03.07.2022 09:58</td>\n",
       "      <td>kadıköy erenköy kozyatağı suadiye</td>\n",
       "      <td>kadıköy erenköy kozyatağı suadiye</td>\n",
       "      <td>False</td>\n",
       "      <td>2022-03-07 09:58:00</td>\n",
       "      <td>NaN</td>\n",
       "      <td>istanbul mülteci turist istilasına uğramayan s...</td>\n",
       "      <td>istanbul mülteç turist istila uğramayan son ka...</td>\n",
       "    </tr>\n",
       "  </tbody>\n",
       "</table>\n",
       "<p>20242 rows × 10 columns</p>\n",
       "</div>"
      ],
      "text/plain": [
       "                                                   Entry  \\\n",
       "0      arife gunu yarim gun mesaisini yapmami$, tembe...   \n",
       "1      sorumluluklarin %50sini yerine getirse, kadiko...   \n",
       "2      sağa sola kent yaşamının gerçek sahibi yayalar...   \n",
       "3                       (bkz: kadikoy afet kriz merkezi)   \n",
       "4      internet sitesinde sahipsiz kedi ve köpekler i...   \n",
       "...                                                  ...   \n",
       "20237  türkiye istanbul ankara izmir gibi saçma sapan...   \n",
       "20238  bostancı'nın nesi var amk!!\\n\\nbana sorarsanız...   \n",
       "20239  göztepe ve caddebostan'ı da dahil ederek söylü...   \n",
       "20240  çocukluğum, ergenliğim, gençliğim. kısacası tü...   \n",
       "20241  istanbul'da mülteci veya turist istilasına uğr...   \n",
       "\n",
       "                        Author                      Date  \\\n",
       "0                          ssg  21.02.2002 12:03 ~ 12:03   \n",
       "1                     deadpoem          11.01.2003 16:24   \n",
       "2                melancholyman  01.02.2003 02:10 ~ 02:12   \n",
       "3                       mercan          21.03.2003 18:46   \n",
       "4                     sai baba          03.08.2004 00:17   \n",
       "...                        ...                       ...   \n",
       "20237        paranoid humanoid          02.07.2022 16:05   \n",
       "20238                 burukluk          02.07.2022 16:12   \n",
       "20239  bu havalarda gelme bana          03.07.2022 09:39   \n",
       "20240                 dogville          03.07.2022 09:40   \n",
       "20241              cumhurreisi          03.07.2022 09:58   \n",
       "\n",
       "                               Old_Topic                          New_Topic  \\\n",
       "0                     kadıköy belediyesi                 kadıköy belediyesi   \n",
       "1                     kadıköy belediyesi                 kadıköy belediyesi   \n",
       "2                     kadıköy belediyesi                 kadıköy belediyesi   \n",
       "3                     kadıköy belediyesi                 kadıköy belediyesi   \n",
       "4                     kadıköy belediyesi                 kadıköy belediyesi   \n",
       "...                                  ...                                ...   \n",
       "20237  kadıköy erenköy kozyatağı suadiye  kadıköy erenköy kozyatağı suadiye   \n",
       "20238  kadıköy erenköy kozyatağı suadiye  kadıköy erenköy kozyatağı suadiye   \n",
       "20239  kadıköy erenköy kozyatağı suadiye  kadıköy erenköy kozyatağı suadiye   \n",
       "20240  kadıköy erenköy kozyatağı suadiye  kadıköy erenköy kozyatağı suadiye   \n",
       "20241  kadıköy erenköy kozyatağı suadiye  kadıköy erenköy kozyatağı suadiye   \n",
       "\n",
       "       Edited           Entry_Date            Edit_Date  \\\n",
       "0        True  2002-02-21 12:03:00  2022-09-19 12:03:00   \n",
       "1       False  2003-11-01 16:24:00                  NaN   \n",
       "2        True  2003-01-02 02:10:00  2022-09-19 02:12:00   \n",
       "3       False  2003-03-21 18:46:00                  NaN   \n",
       "4       False  2004-03-08 00:17:00                  NaN   \n",
       "...       ...                  ...                  ...   \n",
       "20237   False  2022-02-07 16:05:00                  NaN   \n",
       "20238   False  2022-02-07 16:12:00                  NaN   \n",
       "20239   False  2022-03-07 09:39:00                  NaN   \n",
       "20240   False  2022-03-07 09:40:00                  NaN   \n",
       "20241   False  2022-03-07 09:58:00                  NaN   \n",
       "\n",
       "                                         Processed_Entry  \\\n",
       "0      arife gunu yarim gun mesaisini yapmami tembel ...   \n",
       "1      sorumluluklarin getirse kadikoy sevecen anabil...   \n",
       "2      sağa sola kent yaşamının gerçek sahibi yayalar...   \n",
       "3                              kadikoy afet kriz merkezi   \n",
       "4      internet sitesinde sahipsiz kedi köpekler bölü...   \n",
       "...                                                  ...   \n",
       "20237    türkiye istanbul ankara izmir saçma sapan tanım   \n",
       "20238  bostancı nesi sorarsanız güzergahta bostancı s...   \n",
       "20239  göztepe caddebostan dahil istanbul hoş semtler...   \n",
       "20240  çocukluğum ergenliğim gençliğim kısacası hayat...   \n",
       "20241  istanbul mülteci turist istilasına uğramayan s...   \n",
       "\n",
       "                                           Stemmed_Entry  \n",
       "0      arif gun yarim gun mesai yapmami tembel beledi...  \n",
       "1      sorumluluklari getir kadikoy sevecen anabilece...  \n",
       "2      sak sol kent yaşam gerçek sahip yaya yazan baş...  \n",
       "3                               kadikoy afet kriz merkez  \n",
       "4      internet site sahips ked köpek böl isteyen hay...  \n",
       "...                                                  ...  \n",
       "20237          türki istanbul ankar izmir saçm sapan tan  \n",
       "20238  bostancı sorar güzergah bostancı taşr nev şark...  \n",
       "20239  göztep caddebostan dahil istanbul hoş semt çoc...  \n",
       "20240  çocukluk ergenlik gençlik kısaca hayat köşe se...  \n",
       "20241  istanbul mülteç turist istila uğramayan son ka...  \n",
       "\n",
       "[20242 rows x 10 columns]"
      ]
     },
     "execution_count": 53,
     "metadata": {},
     "output_type": "execute_result"
    }
   ],
   "source": [
    "df"
   ]
  },
  {
   "cell_type": "code",
   "execution_count": 58,
   "id": "8c12a81e",
   "metadata": {},
   "outputs": [],
   "source": [
    "df[\"Entry_Date\"] = pd.to_datetime(df[\"Entry_Date\"])"
   ]
  },
  {
   "cell_type": "code",
   "execution_count": 60,
   "id": "723f9268",
   "metadata": {},
   "outputs": [
    {
     "data": {
      "text/plain": [
       "0        2002-02-21\n",
       "1        2003-11-01\n",
       "2        2003-01-02\n",
       "3        2003-03-21\n",
       "4        2004-03-08\n",
       "            ...    \n",
       "20237    2022-02-07\n",
       "20238    2022-02-07\n",
       "20239    2022-03-07\n",
       "20240    2022-03-07\n",
       "20241    2022-03-07\n",
       "Name: Entry_Date, Length: 20242, dtype: object"
      ]
     },
     "execution_count": 60,
     "metadata": {},
     "output_type": "execute_result"
    }
   ],
   "source": [
    "df[\"Entry_Date\"].dt.date"
   ]
  },
  {
   "cell_type": "code",
   "execution_count": 61,
   "id": "434d1ddf",
   "metadata": {},
   "outputs": [],
   "source": [
    "df[\"date\"]=df[\"Entry_Date\"].dt.date"
   ]
  },
  {
   "cell_type": "code",
   "execution_count": 62,
   "id": "196bc80a",
   "metadata": {},
   "outputs": [
    {
     "data": {
      "text/plain": [
       "date\n",
       "1999-03-28    1\n",
       "1999-03-29    1\n",
       "1999-06-27    1\n",
       "1999-08-07    3\n",
       "1999-08-10    1\n",
       "             ..\n",
       "2022-12-05    2\n",
       "2022-12-06    2\n",
       "2022-12-07    1\n",
       "2022-12-08    4\n",
       "2022-12-09    5\n",
       "Name: Entry, Length: 3634, dtype: int64"
      ]
     },
     "execution_count": 62,
     "metadata": {},
     "output_type": "execute_result"
    }
   ],
   "source": [
    "df.groupby([\"date\"])[\"Entry\"].count()"
   ]
  },
  {
   "cell_type": "code",
   "execution_count": 65,
   "id": "2cbb9074",
   "metadata": {},
   "outputs": [
    {
     "data": {
      "text/html": [
       "<div>\n",
       "<style scoped>\n",
       "    .dataframe tbody tr th:only-of-type {\n",
       "        vertical-align: middle;\n",
       "    }\n",
       "\n",
       "    .dataframe tbody tr th {\n",
       "        vertical-align: top;\n",
       "    }\n",
       "\n",
       "    .dataframe thead th {\n",
       "        text-align: right;\n",
       "    }\n",
       "</style>\n",
       "<table border=\"1\" class=\"dataframe\">\n",
       "  <thead>\n",
       "    <tr style=\"text-align: right;\">\n",
       "      <th></th>\n",
       "      <th>date</th>\n",
       "      <th>Entry</th>\n",
       "    </tr>\n",
       "  </thead>\n",
       "  <tbody>\n",
       "    <tr>\n",
       "      <th>0</th>\n",
       "      <td>1999-03-28</td>\n",
       "      <td>1</td>\n",
       "    </tr>\n",
       "    <tr>\n",
       "      <th>1</th>\n",
       "      <td>1999-03-29</td>\n",
       "      <td>1</td>\n",
       "    </tr>\n",
       "    <tr>\n",
       "      <th>2</th>\n",
       "      <td>1999-06-27</td>\n",
       "      <td>1</td>\n",
       "    </tr>\n",
       "    <tr>\n",
       "      <th>3</th>\n",
       "      <td>1999-08-07</td>\n",
       "      <td>3</td>\n",
       "    </tr>\n",
       "    <tr>\n",
       "      <th>4</th>\n",
       "      <td>1999-08-10</td>\n",
       "      <td>1</td>\n",
       "    </tr>\n",
       "    <tr>\n",
       "      <th>...</th>\n",
       "      <td>...</td>\n",
       "      <td>...</td>\n",
       "    </tr>\n",
       "    <tr>\n",
       "      <th>3629</th>\n",
       "      <td>2022-12-05</td>\n",
       "      <td>2</td>\n",
       "    </tr>\n",
       "    <tr>\n",
       "      <th>3630</th>\n",
       "      <td>2022-12-06</td>\n",
       "      <td>2</td>\n",
       "    </tr>\n",
       "    <tr>\n",
       "      <th>3631</th>\n",
       "      <td>2022-12-07</td>\n",
       "      <td>1</td>\n",
       "    </tr>\n",
       "    <tr>\n",
       "      <th>3632</th>\n",
       "      <td>2022-12-08</td>\n",
       "      <td>4</td>\n",
       "    </tr>\n",
       "    <tr>\n",
       "      <th>3633</th>\n",
       "      <td>2022-12-09</td>\n",
       "      <td>5</td>\n",
       "    </tr>\n",
       "  </tbody>\n",
       "</table>\n",
       "<p>3634 rows × 2 columns</p>\n",
       "</div>"
      ],
      "text/plain": [
       "            date  Entry\n",
       "0     1999-03-28      1\n",
       "1     1999-03-29      1\n",
       "2     1999-06-27      1\n",
       "3     1999-08-07      3\n",
       "4     1999-08-10      1\n",
       "...          ...    ...\n",
       "3629  2022-12-05      2\n",
       "3630  2022-12-06      2\n",
       "3631  2022-12-07      1\n",
       "3632  2022-12-08      4\n",
       "3633  2022-12-09      5\n",
       "\n",
       "[3634 rows x 2 columns]"
      ]
     },
     "execution_count": 65,
     "metadata": {},
     "output_type": "execute_result"
    }
   ],
   "source": [
    "pd.DataFrame(df.groupby([\"date\"])[\"Entry\"].count()).reset_index()"
   ]
  },
  {
   "cell_type": "code",
   "execution_count": 66,
   "id": "4ab34112",
   "metadata": {},
   "outputs": [],
   "source": [
    "dailyentry_counts = pd.DataFrame(df.groupby([\"date\"])[\"Entry\"].count()).reset_index()"
   ]
  },
  {
   "cell_type": "code",
   "execution_count": 94,
   "id": "6d2cf3ad",
   "metadata": {},
   "outputs": [
    {
     "data": {
      "image/png": "[encoded data removed]",
      "text/plain": [
       "<Figure size 1600x1200 with 1 Axes>"
      ]
     },
     "metadata": {
      "needs_background": "light"
     },
     "output_type": "display_data"
    }
   ],
   "source": [
    "plt.figure(figsize=(16, 12),dpi=100)\n",
    "plt.plot(dailyentry_counts[\"date\"], dailyentry_counts[\"Entry\"])\n",
    "plt.xlim(left=pd.to_datetime(\"2014-01-01\"),right=pd.to_datetime(\"2023-01-01\"))\n",
    "plt.show()"
   ]
  },
  {
   "cell_type": "code",
   "execution_count": 114,
   "id": "8dd93d73",
   "metadata": {},
   "outputs": [
    {
     "data": {
      "text/html": [
       "<div>\n",
       "<style scoped>\n",
       "    .dataframe tbody tr th:only-of-type {\n",
       "        vertical-align: middle;\n",
       "    }\n",
       "\n",
       "    .dataframe tbody tr th {\n",
       "        vertical-align: top;\n",
       "    }\n",
       "\n",
       "    .dataframe thead th {\n",
       "        text-align: right;\n",
       "    }\n",
       "</style>\n",
       "<table border=\"1\" class=\"dataframe\">\n",
       "  <thead>\n",
       "    <tr style=\"text-align: right;\">\n",
       "      <th></th>\n",
       "      <th>date</th>\n",
       "      <th>Entry</th>\n",
       "    </tr>\n",
       "  </thead>\n",
       "  <tbody>\n",
       "    <tr>\n",
       "      <th>2968</th>\n",
       "      <td>2020-02-23</td>\n",
       "      <td>658</td>\n",
       "    </tr>\n",
       "    <tr>\n",
       "      <th>2655</th>\n",
       "      <td>2018-11-27</td>\n",
       "      <td>396</td>\n",
       "    </tr>\n",
       "    <tr>\n",
       "      <th>975</th>\n",
       "      <td>2010-11-28</td>\n",
       "      <td>392</td>\n",
       "    </tr>\n",
       "    <tr>\n",
       "      <th>1614</th>\n",
       "      <td>2014-03-14</td>\n",
       "      <td>329</td>\n",
       "    </tr>\n",
       "    <tr>\n",
       "      <th>3330</th>\n",
       "      <td>2021-07-21</td>\n",
       "      <td>322</td>\n",
       "    </tr>\n",
       "  </tbody>\n",
       "</table>\n",
       "</div>"
      ],
      "text/plain": [
       "            date  Entry\n",
       "2968  2020-02-23    658\n",
       "2655  2018-11-27    396\n",
       "975   2010-11-28    392\n",
       "1614  2014-03-14    329\n",
       "3330  2021-07-21    322"
      ]
     },
     "execution_count": 114,
     "metadata": {},
     "output_type": "execute_result"
    }
   ],
   "source": [
    "dailyentry_counts.sort_values(\"Entry\", ascending=False).head(5)"
   ]
  },
  {
   "cell_type": "markdown",
   "id": "a1054ef8",
   "metadata": {},
   "source": [
    "# Visualizing N-Grams\n"
   ]
  },
  {
   "cell_type": "markdown",
   "id": "de5bcb8e",
   "metadata": {},
   "source": [
    "## Top Bigrams\n"
   ]
  },
  {
   "cell_type": "code",
   "execution_count": 90,
   "id": "009f5b92",
   "metadata": {},
   "outputs": [],
   "source": [
    "from sklearn.feature_extraction.text import CountVectorizer"
   ]
  },
  {
   "cell_type": "code",
   "execution_count": 91,
   "id": "0fdd1cbe",
   "metadata": {},
   "outputs": [],
   "source": [
    "def get_top_n_bigram(corpus, n=None):\n",
    "    vec = CountVectorizer(ngram_range=(2,2)).fit(corpus)\n",
    "    bag_of_words = vec.transform(corpus)\n",
    "    sum_words = bag_of_words.sum(axis=0)\n",
    "    words_freq = [(word, sum_words[0, idx]) for word, idx in vec.vocabulary_.items()]\n",
    "    words_freq =sorted(words_freq, key = lambda x: x[1], reverse=True)\n",
    "    return words_freq[:n]\n",
    "\n",
    "common_words2 = get_top_n_bigram(df['Processed_Entry'], 30)"
   ]
  },
  {
   "cell_type": "code",
   "execution_count": 27,
   "id": "19ca8f69",
   "metadata": {},
   "outputs": [
    {
     "data": {
      "text/html": [
       "<div>\n",
       "<style scoped>\n",
       "    .dataframe tbody tr th:only-of-type {\n",
       "        vertical-align: middle;\n",
       "    }\n",
       "\n",
       "    .dataframe tbody tr th {\n",
       "        vertical-align: top;\n",
       "    }\n",
       "\n",
       "    .dataframe thead th {\n",
       "        text-align: right;\n",
       "    }\n",
       "</style>\n",
       "<table border=\"1\" class=\"dataframe\">\n",
       "  <thead>\n",
       "    <tr style=\"text-align: right;\">\n",
       "      <th></th>\n",
       "      <th>Processed_Entry</th>\n",
       "      <th>Count</th>\n",
       "    </tr>\n",
       "  </thead>\n",
       "  <tbody>\n",
       "    <tr>\n",
       "      <th>0</th>\n",
       "      <td>kadıköy belediyesi</td>\n",
       "      <td>368</td>\n",
       "    </tr>\n",
       "    <tr>\n",
       "      <th>1</th>\n",
       "      <td>kentsel dönüşüm</td>\n",
       "      <td>234</td>\n",
       "    </tr>\n",
       "    <tr>\n",
       "      <th>2</th>\n",
       "      <td>haydarpaşa garı</td>\n",
       "      <td>173</td>\n",
       "    </tr>\n",
       "    <tr>\n",
       "      <th>3</th>\n",
       "      <td>bağdat caddesi</td>\n",
       "      <td>132</td>\n",
       "    </tr>\n",
       "    <tr>\n",
       "      <th>4</th>\n",
       "      <td>tek başına</td>\n",
       "      <td>117</td>\n",
       "    </tr>\n",
       "  </tbody>\n",
       "</table>\n",
       "</div>"
      ],
      "text/plain": [
       "      Processed_Entry  Count\n",
       "0  kadıköy belediyesi    368\n",
       "1     kentsel dönüşüm    234\n",
       "2     haydarpaşa garı    173\n",
       "3      bağdat caddesi    132\n",
       "4          tek başına    117"
      ]
     },
     "execution_count": 27,
     "metadata": {},
     "output_type": "execute_result"
    }
   ],
   "source": [
    "top_bigram = pd.DataFrame(common_words2, columns=['Processed_Entry', \"Count\"])\n",
    "top_bigram.head()"
   ]
  },
  {
   "cell_type": "code",
   "execution_count": 28,
   "id": "026b195d",
   "metadata": {},
   "outputs": [
    {
     "data": {
      "text/plain": [
       "<AxesSubplot:title={'center':'Bar chart of Bigrams Frequency'}, xlabel='Bigram Words', ylabel='Count'>"
      ]
     },
     "execution_count": 28,
     "metadata": {},
     "output_type": "execute_result"
    },
    {
     "data": {
      "image/png": "[encoded data removed]",
      "text/plain": [
       "<Figure size 576x432 with 1 Axes>"
      ]
     },
     "metadata": {
      "needs_background": "light"
     },
     "output_type": "display_data"
    }
   ],
   "source": [
    "top_bigram.groupby('Processed_Entry').sum()['Count'].sort_values(ascending=False).plot(\n",
    "    kind='bar',\n",
    "    figsize=(8,6),\n",
    "    xlabel = \"Bigram Words\",\n",
    "    ylabel = \"Count\",\n",
    "    title = \"Bar chart of Bigrams Frequency\")"
   ]
  },
  {
   "cell_type": "markdown",
   "id": "0ebdcef8",
   "metadata": {},
   "source": [
    "## Top Trigrams\n"
   ]
  },
  {
   "cell_type": "code",
   "execution_count": 30,
   "id": "2caea6c9",
   "metadata": {},
   "outputs": [
    {
     "data": {
      "text/html": [
       "<div>\n",
       "<style scoped>\n",
       "    .dataframe tbody tr th:only-of-type {\n",
       "        vertical-align: middle;\n",
       "    }\n",
       "\n",
       "    .dataframe tbody tr th {\n",
       "        vertical-align: top;\n",
       "    }\n",
       "\n",
       "    .dataframe thead th {\n",
       "        text-align: right;\n",
       "    }\n",
       "</style>\n",
       "<table border=\"1\" class=\"dataframe\">\n",
       "  <thead>\n",
       "    <tr style=\"text-align: right;\">\n",
       "      <th></th>\n",
       "      <th>Processed_Entry</th>\n",
       "      <th>Count</th>\n",
       "    </tr>\n",
       "  </thead>\n",
       "  <tbody>\n",
       "    <tr>\n",
       "      <th>0</th>\n",
       "      <td>dolar blok metrekare</td>\n",
       "      <td>28</td>\n",
       "    </tr>\n",
       "    <tr>\n",
       "      <th>1</th>\n",
       "      <td>amaçsızca tek başına</td>\n",
       "      <td>27</td>\n",
       "    </tr>\n",
       "    <tr>\n",
       "      <th>2</th>\n",
       "      <td>allah belanızı versin</td>\n",
       "      <td>24</td>\n",
       "    </tr>\n",
       "    <tr>\n",
       "      <th>3</th>\n",
       "      <td>ali ismail korkmaz</td>\n",
       "      <td>24</td>\n",
       "    </tr>\n",
       "    <tr>\n",
       "      <th>4</th>\n",
       "      <td>kadıköy belediye başkanı</td>\n",
       "      <td>23</td>\n",
       "    </tr>\n",
       "  </tbody>\n",
       "</table>\n",
       "</div>"
      ],
      "text/plain": [
       "            Processed_Entry  Count\n",
       "0      dolar blok metrekare     28\n",
       "1      amaçsızca tek başına     27\n",
       "2     allah belanızı versin     24\n",
       "3        ali ismail korkmaz     24\n",
       "4  kadıköy belediye başkanı     23"
      ]
     },
     "execution_count": 30,
     "metadata": {},
     "output_type": "execute_result"
    }
   ],
   "source": [
    "def get_top_n_trigram(corpus, n=None):\n",
    "    vec = CountVectorizer(ngram_range=(3, 3)).fit(corpus)\n",
    "    bag_of_words = vec.transform(corpus)\n",
    "    sum_words = bag_of_words.sum(axis=0)\n",
    "    words_freq = [(word, sum_words[0, idx]) for word, idx in vec.vocabulary_.items()]\n",
    "    words_freq =sorted(words_freq, key = lambda x: x[1], reverse=True)\n",
    "    return words_freq[:n]\n",
    "\n",
    "common_words3 = get_top_n_trigram(df['Processed_Entry'], 30)\n",
    "top_trigram = pd.DataFrame(common_words3, columns = ['Processed_Entry' , 'Count'])\n",
    "top_trigram.head(5)"
   ]
  },
  {
   "cell_type": "code",
   "execution_count": 1,
   "id": "2f810cdb",
   "metadata": {},
   "outputs": [],
   "source": [
    "#top_trigram.groupby('Processed_Entry').sum()['Count'].sort_values(ascending=False).plot(\n",
    "    #kind='bar',\n",
    "    #figsize=(8,6),\n",
    "    #xlabel = \"Trigram Words\",\n",
    "    #ylabel = \"Count\",\n",
    "    #dpi=100,\n",
    "    #title = \"Bar chart of Trigrams Frequency\")"
   ]
  },
  {
   "cell_type": "markdown",
   "id": "8ea3acf3",
   "metadata": {},
   "source": [
    "# WordCloud"
   ]
  },
  {
   "cell_type": "code",
   "execution_count": 41,
   "id": "68d5b255",
   "metadata": {},
   "outputs": [],
   "source": [
    "from wordcloud import WordCloud, STOPWORDS\n",
    "from collections import Counter\n"
   ]
  },
  {
   "cell_type": "code",
   "execution_count": 42,
   "id": "0f4f6c59",
   "metadata": {},
   "outputs": [],
   "source": [
    "words = []\n",
    "\n",
    "for entry in df[\"Processed_Entry\"]:\n",
    "    for word in entry.split():\n",
    "        words.append(word)"
   ]
  },
  {
   "cell_type": "code",
   "execution_count": 43,
   "id": "45408190",
   "metadata": {},
   "outputs": [],
   "source": [
    "word_counts = pd.DataFrame(Counter(words).most_common(100)).rename({0: \"word\", 1: \"count\"}, axis=1)"
   ]
  },
  {
   "cell_type": "code",
   "execution_count": 44,
   "id": "59a19b43",
   "metadata": {},
   "outputs": [
    {
     "data": {
      "image/png": "[encoded data removed]",
      "text/plain": [
       "<Figure size 1296x576 with 1 Axes>"
      ]
     },
     "metadata": {
      "needs_background": "light"
     },
     "output_type": "display_data"
    }
   ],
   "source": [
    "plt.figure(figsize=(18, 8))\n",
    "\n",
    "plt.bar(word_counts[\"word\"][:50], word_counts[\"count\"][:50])\n",
    "plt.xticks(rotation=90)\n",
    "plt.title(\"Overall Word Counts\", fontsize=16)\n",
    "plt.show()"
   ]
  },
  {
   "cell_type": "markdown",
   "id": "1147ba79",
   "metadata": {},
   "source": [
    "# Visualizing Top Words\n"
   ]
  },
  {
   "cell_type": "code",
   "execution_count": 45,
   "id": "922e800d",
   "metadata": {},
   "outputs": [],
   "source": [
    "from sklearn.feature_extraction.text import CountVectorizer\n",
    "\n",
    "def get_top_n_words(corpus, n=None):\n",
    "    vec = CountVectorizer().fit(corpus)\n",
    "    bag_of_words = vec.transform(corpus)\n",
    "    sum_words = bag_of_words.sum(axis=0)\n",
    "    words_freq = [(word, sum_words[0, idx]) for word, idx in vec.vocabulary_.items()]\n",
    "    words_freq =sorted(words_freq, key = lambda x: x[1], reverse=True)\n",
    "    return words_freq[:n]"
   ]
  },
  {
   "cell_type": "code",
   "execution_count": 46,
   "id": "29fa0c6f",
   "metadata": {},
   "outputs": [
    {
     "data": {
      "text/html": [
       "<div>\n",
       "<style scoped>\n",
       "    .dataframe tbody tr th:only-of-type {\n",
       "        vertical-align: middle;\n",
       "    }\n",
       "\n",
       "    .dataframe tbody tr th {\n",
       "        vertical-align: top;\n",
       "    }\n",
       "\n",
       "    .dataframe thead th {\n",
       "        text-align: right;\n",
       "    }\n",
       "</style>\n",
       "<table border=\"1\" class=\"dataframe\">\n",
       "  <thead>\n",
       "    <tr style=\"text-align: right;\">\n",
       "      <th></th>\n",
       "      <th>Processed_Entry</th>\n",
       "      <th>count</th>\n",
       "    </tr>\n",
       "  </thead>\n",
       "  <tbody>\n",
       "    <tr>\n",
       "      <th>0</th>\n",
       "      <td>kadıköy</td>\n",
       "      <td>5211</td>\n",
       "    </tr>\n",
       "    <tr>\n",
       "      <th>1</th>\n",
       "      <td>güzel</td>\n",
       "      <td>2281</td>\n",
       "    </tr>\n",
       "    <tr>\n",
       "      <th>2</th>\n",
       "      <td>moda</td>\n",
       "      <td>1853</td>\n",
       "    </tr>\n",
       "    <tr>\n",
       "      <th>3</th>\n",
       "      <td>istanbul</td>\n",
       "      <td>1833</td>\n",
       "    </tr>\n",
       "    <tr>\n",
       "      <th>4</th>\n",
       "      <td>yer</td>\n",
       "      <td>1831</td>\n",
       "    </tr>\n",
       "  </tbody>\n",
       "</table>\n",
       "</div>"
      ],
      "text/plain": [
       "  Processed_Entry  count\n",
       "0         kadıköy   5211\n",
       "1           güzel   2281\n",
       "2            moda   1853\n",
       "3        istanbul   1833\n",
       "4             yer   1831"
      ]
     },
     "execution_count": 46,
     "metadata": {},
     "output_type": "execute_result"
    }
   ],
   "source": [
    "common_words = get_top_n_words(df['Processed_Entry'], 20)\n",
    "common_df = pd.DataFrame(common_words, columns = ['Processed_Entry', 'count'])\n",
    "common_df.head()"
   ]
  },
  {
   "cell_type": "code",
   "execution_count": 102,
   "id": "693fe2a3",
   "metadata": {},
   "outputs": [
    {
     "data": {
      "text/plain": [
       "<AxesSubplot:title={'center':'Bar Chart of Top Words Frequency'}, xlabel='Top Words', ylabel='Count'>"
      ]
     },
     "execution_count": 102,
     "metadata": {},
     "output_type": "execute_result"
    },
    {
     "data": {
      "image/png": "[encoded data removed]",
      "text/plain": [
       "<Figure size 1008x720 with 1 Axes>"
      ]
     },
     "metadata": {
      "needs_background": "light"
     },
     "output_type": "display_data"
    }
   ],
   "source": [
    "common_df.groupby('Processed_Entry').sum()['count'].sort_values(ascending=False).plot(\n",
    "    kind='bar',\n",
    "    figsize=(14, 10),\n",
    "    xlabel = \"Top Words\",\n",
    "    ylabel = \"Count\",\n",
    "    title = \"Bar Chart of Top Words Frequency\")"
   ]
  },
  {
   "cell_type": "markdown",
   "id": "29fc1355",
   "metadata": {},
   "source": [
    "# Word Frequency"
   ]
  },
  {
   "cell_type": "code",
   "execution_count": 87,
   "id": "798d9e30",
   "metadata": {},
   "outputs": [],
   "source": [
    "#def word_freq(column):\n",
    "#    \n",
    "#    words = []\n",
    "#    for item in column:\n",
    "#        for word in item.split():\n",
    "#            words.append(word)\n",
    "#            \n",
    "#    df = pd.concat([pd.Series(list(dict(Counter(words)).keys()), name=\"word\"),\n",
    "#                    pd.Series(list(dict(Counter(words)).values()), name=\"counts\")], axis=1)\n",
    "#    \n",
    "#    df[\"freq\"] = df[\"counts\"] / df[\"counts\"].sum()\n",
    "#    \n",
    "#    return df[[\"word\", \"counts\", \"freq\"]].sort_values(\"freq\", ascending=False).reset_index(drop=True)"
   ]
  },
  {
   "cell_type": "code",
   "execution_count": null,
   "id": "16f82661",
   "metadata": {},
   "outputs": [],
   "source": []
  }
 ],
 "metadata": {
  "kernelspec": {
   "display_name": "Python 3",
   "language": "python",
   "name": "python3"
  },
  "language_info": {
   "codemirror_mode": {
    "name": "ipython",
    "version": 3
   },
   "file_extension": ".py",
   "mimetype": "text/x-python",
   "name": "python",
   "nbconvert_exporter": "python",
   "pygments_lexer": "ipython3",
   "version": "3.8.2"
  }
 },
 "nbformat": 4,
 "nbformat_minor": 5
}
