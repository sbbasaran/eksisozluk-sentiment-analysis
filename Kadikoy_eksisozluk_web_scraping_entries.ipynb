{
 "cells": [
  {
   "cell_type": "code",
   "execution_count": null,
   "id": "4cc0910b",
   "metadata": {},
   "outputs": [],
   "source": [
    "import numpy as np\n",
    "import pandas as pd\n",
    "from selenium import webdriver\n",
    "from webdriver_manager.chrome import ChromeDriverManager\n",
    "\n",
    "driver = webdriver.Chrome(ChromeDriverManager().install())"
   ]
  },
  {
   "cell_type": "code",
   "execution_count": null,
   "id": "3b9bac4f",
   "metadata": {},
   "outputs": [],
   "source": [
    "def eksi_scrap(url):\n",
    "    url = url\n",
    "    driver.get(url)\n",
    "    \n",
    "    entry_item_list = driver.find_elements_by_xpath('//*[@id=\"entry-item-list\"]')[0]\n",
    "    \n",
    "    entries = []\n",
    "    authors = []\n",
    "    dates = []\n",
    "    \n",
    "    for i in range(len(entry_item_list.find_elements_by_class_name(\"content\"))):\n",
    "        entries.append(entry_item_list.find_elements_by_class_name(\"content\")[i].text)\n",
    "        authors.append(entry_item_list.find_elements_by_class_name(\"entry-author\")[i].text)\n",
    "        dates.append(entry_item_list.find_elements_by_class_name(\"entry-date\")[i].text)\n",
    "        \n",
    "    df = pd.DataFrame(columns = [\"Entry\", \"Author\", \"Date\"])\n",
    "    \n",
    "    entries = pd.Series(entries, name='Entry')\n",
    "    authors = pd.Series(authors, name='Author')\n",
    "    dates = pd.Series(dates, name='Date')\n",
    "    \n",
    "    df = df.append(pd.concat([entries, authors, dates], axis=1))\n",
    "    return df"
   ]
  },
  {
   "cell_type": "code",
   "execution_count": null,
   "id": "f5770339",
   "metadata": {},
   "outputs": [],
   "source": [
    "def get_entries(url):\n",
    "    print(f\"Getting Entries in: {url}\")\n",
    "    driver.get(url)\n",
    "    \n",
    "    # Check if the topic was changed to a new one\n",
    "    try:\n",
    "        if driver.find_element_by_xpath('//*[@id=\"title\"]/sup/a'):\n",
    "            old_topic = driver.find_element_by_xpath('//*[@id=\"title\"]/sup/a').get_attribute(\"title\")[1:-15]\n",
    "    except:\n",
    "        old_topic = driver.find_element_by_xpath('//*[@id=\"title\"]/a/span').text\n",
    "    \n",
    "    if driver.find_element_by_xpath('//*[@id=\"entry-author\"]/a').text == 'başlık taşıyan':\n",
    "        url = driver.find_elements_by_xpath('//*[@id=\"entry-item-list\"]')[0].find_element_by_class_name(\"content\").find_element_by_class_name(\"b\").get_attribute(\"href\")\n",
    "        driver.get(url)\n",
    "        \n",
    "    url = driver.current_url\n",
    "    driver.get(url)\n",
    "        \n",
    "    if \"true&rf\" in url:\n",
    "        url = driver.find_element_by_xpath('//*[@id=\"title\"]/a').get_attribute(\"href\")\n",
    "        driver.get(url)\n",
    "    \n",
    "    new_topic = driver.find_element_by_xpath('//*[@id=\"title\"]/a/span').text\n",
    "    \n",
    "    # Check if the topic has more than one page\n",
    "    try:\n",
    "        total_page = driver.find_element_by_xpath('//*[@id=\"topic\"]/div[1]/div[2]/a[1]').text\n",
    "    except:\n",
    "        total_page = 1\n",
    "    \n",
    "    url = url + \"?p=\"\n",
    "    \n",
    "    df = pd.DataFrame(columns = [\"Entry\", \"Author\", \"Date\"])\n",
    "    \n",
    "    i = 1\n",
    "    while True:\n",
    "        try:\n",
    "            df = df.append(eksi_scrap(url + str(i)))\n",
    "            print(f\"Page: {i}|{total_page}\")\n",
    "            i += 1\n",
    "        except:\n",
    "            break\n",
    "            \n",
    "    df = df.reset_index(drop=True)\n",
    "    old_topics = pd.Series([old_topic]*df.shape[0], name=\"Old_Topic\")\n",
    "    new_topics = pd.Series([new_topic]*df.shape[0], name=\"New_Topic\")\n",
    "    \n",
    "    df = pd.concat([df, old_topics, new_topics], axis=1)\n",
    "    return df"
   ]
  },
  {
   "cell_type": "markdown",
   "id": "a47f5609",
   "metadata": {},
   "source": [
    "# Kadıköy Mahalle Entries\n"
   ]
  },
  {
   "cell_type": "code",
   "execution_count": null,
   "id": "e2d34ed6",
   "metadata": {},
   "outputs": [],
   "source": [
    "kadıkoy = pd.DataFrame(columns = [\"Entry\", \"Author\", \"Date\"])"
   ]
  },
  {
   "cell_type": "code",
   "execution_count": null,
   "id": "c5301ad9",
   "metadata": {},
   "outputs": [],
   "source": [
    "urls = [\"\"]"
   ]
  },
  {
   "cell_type": "code",
   "execution_count": null,
   "id": "a94a0492",
   "metadata": {},
   "outputs": [],
   "source": [
    "for i, url in enumerate(urls):\n",
    "    try:\n",
    "        kadıkoy = kadıkoy.append(get_entries(url))\n",
    "    except:\n",
    "        kadıkoy = kadıkoy.append(get_entries(url))"
   ]
  },
  {
   "cell_type": "code",
   "execution_count": null,
   "id": "7ac7f198",
   "metadata": {},
   "outputs": [],
   "source": [
    "kadıkoy.head()"
   ]
  },
  {
   "cell_type": "code",
   "execution_count": null,
   "id": "09f191c7",
   "metadata": {},
   "outputs": [],
   "source": [
    "kadıkoy = kadıkoy.reset_index(drop=True)"
   ]
  },
  {
   "cell_type": "code",
   "execution_count": null,
   "id": "18827cc1",
   "metadata": {},
   "outputs": [],
   "source": []
  }
 ],
 "metadata": {
  "kernelspec": {
   "display_name": "Python 3",
   "language": "python",
   "name": "python3"
  },
  "language_info": {
   "codemirror_mode": {
    "name": "ipython",
    "version": 3
   },
   "file_extension": ".py",
   "mimetype": "text/x-python",
   "name": "python",
   "nbconvert_exporter": "python",
   "pygments_lexer": "ipython3",
   "version": "3.8.2"
  }
 },
 "nbformat": 4,
 "nbformat_minor": 5
}
